{
  "nbformat": 4,
  "nbformat_minor": 0,
  "metadata": {
    "colab": {
      "name": "2nd multiclass model",
      "provenance": [],
      "collapsed_sections": [],
      "include_colab_link": true
    },
    "kernelspec": {
      "name": "python3",
      "display_name": "Python 3"
    },
    "language_info": {
      "name": "python"
    },
    "accelerator": "GPU"
  },
  "cells": [
    {
      "cell_type": "markdown",
      "metadata": {
        "id": "view-in-github",
        "colab_type": "text"
      },
      "source": [
        "<a href=\"https://colab.research.google.com/github/SaraaMaher/Multiclassification-MRI/blob/main/2nd_multiclass_model.ipynb\" target=\"_parent\"><img src=\"https://colab.research.google.com/assets/colab-badge.svg\" alt=\"Open In Colab\"/></a>"
      ]
    },
    {
      "cell_type": "code",
      "execution_count": null,
      "metadata": {
        "colab": {
          "base_uri": "https://localhost:8080/"
        },
        "id": "tnys0wBAYgDJ",
        "outputId": "cb6d48c9-f66a-4b78-eb6e-955b1a00e09e"
      },
      "outputs": [
        {
          "output_type": "stream",
          "name": "stdout",
          "text": [
            "Mounted at /content/drive/\n"
          ]
        }
      ],
      "source": [
        "from google.colab import drive\n",
        "drive.mount('/content/drive/')"
      ]
    },
    {
      "cell_type": "code",
      "source": [
        "!pip install tflearn"
      ],
      "metadata": {
        "colab": {
          "base_uri": "https://localhost:8080/"
        },
        "id": "YMKfkaQMY3F3",
        "outputId": "1d8de915-5be2-4894-f3bf-03376e8bfab7"
      },
      "execution_count": null,
      "outputs": [
        {
          "output_type": "stream",
          "name": "stdout",
          "text": [
            "Collecting tflearn\n",
            "  Downloading tflearn-0.5.0.tar.gz (107 kB)\n",
            "\u001b[?25l\r\u001b[K     |███                             | 10 kB 17.6 MB/s eta 0:00:01\r\u001b[K     |██████                          | 20 kB 8.7 MB/s eta 0:00:01\r\u001b[K     |█████████▏                      | 30 kB 7.4 MB/s eta 0:00:01\r\u001b[K     |████████████▏                   | 40 kB 7.0 MB/s eta 0:00:01\r\u001b[K     |███████████████▎                | 51 kB 4.4 MB/s eta 0:00:01\r\u001b[K     |██████████████████▎             | 61 kB 5.2 MB/s eta 0:00:01\r\u001b[K     |█████████████████████▍          | 71 kB 5.3 MB/s eta 0:00:01\r\u001b[K     |████████████████████████▍       | 81 kB 5.4 MB/s eta 0:00:01\r\u001b[K     |███████████████████████████▌    | 92 kB 6.0 MB/s eta 0:00:01\r\u001b[K     |██████████████████████████████▌ | 102 kB 5.3 MB/s eta 0:00:01\r\u001b[K     |████████████████████████████████| 107 kB 5.3 MB/s \n",
            "\u001b[?25hRequirement already satisfied: numpy in /usr/local/lib/python3.7/dist-packages (from tflearn) (1.21.5)\n",
            "Requirement already satisfied: six in /usr/local/lib/python3.7/dist-packages (from tflearn) (1.15.0)\n",
            "Requirement already satisfied: Pillow in /usr/local/lib/python3.7/dist-packages (from tflearn) (7.1.2)\n",
            "Building wheels for collected packages: tflearn\n",
            "  Building wheel for tflearn (setup.py) ... \u001b[?25l\u001b[?25hdone\n",
            "  Created wheel for tflearn: filename=tflearn-0.5.0-py3-none-any.whl size=127299 sha256=78d9ab95fe72e231620a136242e95fef70c66d53d8ed4fa9984c131ce86206ae\n",
            "  Stored in directory: /root/.cache/pip/wheels/5f/14/2e/1d8e28cc47a5a931a2fb82438c9e37ef9246cc6a3774520271\n",
            "Successfully built tflearn\n",
            "Installing collected packages: tflearn\n",
            "Successfully installed tflearn-0.5.0\n"
          ]
        }
      ]
    },
    {
      "cell_type": "code",
      "source": [
        "import cv2\n",
        "import numpy as np\n",
        "import glob\n",
        "import tensorflow as tf\n",
        "import matplotlib.pyplot as plt\n",
        "import os\n",
        "from tensorflow.keras import datasets, layers, models\n",
        "from tflearn.layers.conv import conv_2d, max_pool_2d\n",
        "from tflearn.layers.core import input_data, dropout, fully_connected\n",
        "from tflearn.layers.estimator import regression\n",
        "from google.colab.patches import cv2_imshow\n",
        "from tensorflow.keras.layers import Dense, BatchNormalization\n",
        "from skimage.io import imread_collection\n",
        "from sklearn.metrics import confusion_matrix\n",
        "import itertools\n",
        "\n",
        "\n",
        "from tensorflow.keras import optimizers\n",
        "optimizers.RMSprop\n",
        "optimizers.Adam\n",
        "from keras.preprocessing.image import ImageDataGenerator\n",
        "from keras.callbacks import ReduceLROnPlateau\n",
        "from keras.callbacks import EarlyStopping"
      ],
      "metadata": {
        "id": "8oRRr5tgZTOM",
        "colab": {
          "base_uri": "https://localhost:8080/"
        },
        "outputId": "f3e05908-bffb-4886-8b96-10540cc28dc8"
      },
      "execution_count": null,
      "outputs": [
        {
          "output_type": "stream",
          "name": "stdout",
          "text": [
            "WARNING:tensorflow:From /usr/local/lib/python3.7/dist-packages/tensorflow/python/compat/v2_compat.py:107: disable_resource_variables (from tensorflow.python.ops.variable_scope) is deprecated and will be removed in a future version.\n",
            "Instructions for updating:\n",
            "non-resource variables are not supported in the long term\n"
          ]
        }
      ]
    },
    {
      "cell_type": "code",
      "source": [
        "!unzip /content/drive/MyDrive/Training.zip"
      ],
      "metadata": {
        "id": "DYfbcelYGF1J"
      },
      "execution_count": null,
      "outputs": []
    },
    {
      "cell_type": "code",
      "source": [
        "from tensorflow import keras"
      ],
      "metadata": {
        "id": "kfK17gheZYds"
      },
      "execution_count": null,
      "outputs": []
    },
    {
      "cell_type": "code",
      "source": [
        "path = \"/content/content/content/8020\"\n",
        "IMG_SIZE=227\n",
        "MODEL_NAME=\"Multiclass_BrainTumor\""
      ],
      "metadata": {
        "id": "gJ40OWn2ZbIl"
      },
      "execution_count": null,
      "outputs": []
    },
    {
      "cell_type": "code",
      "source": [
        "def load_images_from_folder(path,l,Data,label):\n",
        "    for filename in os.listdir(path):\n",
        "        img = cv2.imread(os.path.join(path,filename))\n",
        "        img = cv2.cvtColor(img,cv2.COLOR_BGR2GRAY)\n",
        "        img = cv2.resize(img,(IMG_SIZE,IMG_SIZE),interpolation=cv2.INTER_LINEAR)\n",
        "        img = img.reshape(img.shape+(1,)) \n",
        "        img = img.astype(np.uint8)\n",
        "        if img is not None:\n",
        "            Data.append(img)\n",
        "            l = l.astype(np.uint8)\n",
        "            label.append(l)\n",
        "    "
      ],
      "metadata": {
        "id": "F0mBtcOcZo-l"
      },
      "execution_count": null,
      "outputs": []
    },
    {
      "cell_type": "code",
      "source": [
        "def load_data(path2):\n",
        "  fullpath=path+path2\n",
        "  Data=[]\n",
        "  label=[]\n",
        "  load_images_from_folder(fullpath+\"/glioma_tumor\",np.array([0]),Data,label)\n",
        "  load_images_from_folder(fullpath+\"/meningioma_tumor\",np.array([1]),Data,label)\n",
        "  load_images_from_folder(fullpath+\"/pituitary_tumor\",np.array([2]),Data,label)\n",
        "  Data=np.array(Data)\n",
        "  label=np.array(label)\n",
        "  return Data,label"
      ],
      "metadata": {
        "id": "mxH4sMDXLfhm"
      },
      "execution_count": null,
      "outputs": []
    },
    {
      "cell_type": "code",
      "source": [
        "Train_Data,Train_Label=load_data(\"/Training\")\n",
        "Train_Label = keras.utils.to_categorical(Train_Label, 3)"
      ],
      "metadata": {
        "id": "lA-iiNHuA1zE"
      },
      "execution_count": null,
      "outputs": []
    },
    {
      "cell_type": "code",
      "source": [
        "Test_Data,Test_Label=load_data(\"/Testing\")\n"
      ],
      "metadata": {
        "id": "6SovWHn6Z06c"
      },
      "execution_count": null,
      "outputs": []
    },
    {
      "cell_type": "code",
      "source": [
        "Val_Data,Val_Label=load_data(\"/Validation\")"
      ],
      "metadata": {
        "id": "_mVSF6QlFalN"
      },
      "execution_count": null,
      "outputs": []
    },
    {
      "cell_type": "code",
      "source": [
        "Test_Label = keras.utils.to_categorical(Test_Label, 3)\n",
        "\n",
        "Val_Label = keras.utils.to_categorical(Val_Label, 3)"
      ],
      "metadata": {
        "id": "Qkdu-iTaGDl5"
      },
      "execution_count": null,
      "outputs": []
    },
    {
      "cell_type": "code",
      "source": [
        "print (Train_Label[0])\n",
        "\n",
        "type(Train_Label[0])"
      ],
      "metadata": {
        "id": "ffeuhwLyT3KW",
        "colab": {
          "base_uri": "https://localhost:8080/"
        },
        "outputId": "fa1066e2-13b0-49d2-c114-24d7be33211e"
      },
      "execution_count": null,
      "outputs": [
        {
          "output_type": "stream",
          "name": "stdout",
          "text": [
            "[1. 0. 0.]\n"
          ]
        },
        {
          "output_type": "execute_result",
          "data": {
            "text/plain": [
              "numpy.ndarray"
            ]
          },
          "metadata": {},
          "execution_count": 13
        }
      ]
    },
    {
      "cell_type": "code",
      "source": [
        "print (Train_Data[0].dtype)\n"
      ],
      "metadata": {
        "id": "fD8kaQM4VFNn",
        "colab": {
          "base_uri": "https://localhost:8080/"
        },
        "outputId": "ccfb1fa0-092b-469e-c8ef-af4b11f510c5"
      },
      "execution_count": null,
      "outputs": [
        {
          "output_type": "stream",
          "name": "stdout",
          "text": [
            "uint8\n"
          ]
        }
      ]
    },
    {
      "cell_type": "code",
      "source": [
        "cv2_imshow(Test_Data[0])"
      ],
      "metadata": {
        "id": "1B_tymoJaJaA",
        "colab": {
          "base_uri": "https://localhost:8080/",
          "height": 244
        },
        "outputId": "7f98db24-0e51-4c7c-91d2-d2d585128801"
      },
      "execution_count": null,
      "outputs": [
        {
          "output_type": "display_data",
          "data": {
            "image/png": "[encoded data removed]",
            "text/plain": [
              "<PIL.Image.Image image mode=RGB size=227x227 at 0x7FC62139F9D0>"
            ]
          },
          "metadata": {}
        }
      ]
    },
    {
      "cell_type": "code",
      "source": [
        "print(np.array(Test_Data[0]).shape)"
      ],
      "metadata": {
        "id": "p9Sv2MVfaMdC",
        "colab": {
          "base_uri": "https://localhost:8080/"
        },
        "outputId": "a260426c-35c5-47ea-eda8-37ca582bb571"
      },
      "execution_count": null,
      "outputs": [
        {
          "output_type": "stream",
          "name": "stdout",
          "text": [
            "(227, 227, 1)\n"
          ]
        }
      ]
    },
    {
      "cell_type": "code",
      "source": [
        "from tensorflow.keras import regularizers\n",
        "import keras.backend as K\n",
        "K.clear_session()\n",
        "\n",
        "model = models.Sequential()\n",
        "model.add(layers.Conv2D(128,(6,6), activation='relu', strides=(4,4) ,  padding='same', input_shape=(227,227,1),bias_regularizer=regularizers.L2(0.001)))\n",
        "layers.BatchNormalization()\n",
        "\n",
        "\n",
        "model.add(layers.MaxPooling2D(pool_size=(2, 2) , strides =(2,2),padding='same'))\n",
        "\n",
        "model.add(layers.Conv2D(96, (6,6), activation='relu', strides =(1,1), padding='same',bias_regularizer=regularizers.L2(0.001))) \n",
        "model.add(layers.MaxPooling2D(pool_size = (2, 2) , strides =(2,2),padding='same'))\n",
        "\n",
        "model.add(layers.Conv2D(96, (2,2), activation='relu', strides =(1,1), padding='same',bias_regularizer=regularizers.L2(0.001))) \n",
        "model.add(layers.MaxPooling2D(pool_size = (2, 2) , strides =(2,2),padding='same'))\n",
        "\n",
        "\n",
        "model.add(layers.Conv2D(24, (6,6), activation='relu' , strides =(1,1), padding='same',bias_regularizer=regularizers.L2(0.001)))\n",
        "model.add(layers.MaxPooling2D(pool_size = (2, 2)  , strides =(2,2),padding='same'))\n",
        "\n",
        "model.add(layers.Conv2D(24, (6,6), activation='relu', strides =(1,1), padding='same',bias_regularizer=regularizers.L2(0.001)))\n",
        "model.add(layers.MaxPooling2D(pool_size = (2, 2) , strides =(2,2),padding='same'))\n",
        "\n",
        "model.add(layers.Conv2D(32, (4,4), activation='relu' , strides=(1,1), padding='same',bias_regularizer=regularizers.L2(0.001)))\n",
        "model.add(layers.MaxPooling2D(pool_size=(2, 2) , strides=(2,2),padding='same'))\n",
        "\n",
        "\n",
        "\n",
        "model.add(layers.Flatten())\n",
        "model.add(layers.Dense(512))\n",
        "\n",
        "\n",
        "model.add(tf.keras.layers.Dropout(0.3))\n",
        "model.add(tf.keras.layers.Dense( 3, activation = \"softmax\"))  \n",
        "\n",
        "opt = keras.optimizers.Adam(learning_rate=0.001)\n",
        "\n",
        "\n",
        "model.compile(optimizer=opt ,loss=tf.keras.losses.CategoricalCrossentropy(from_logits=True),metrics=['accuracy'] )\n",
        "\n",
        "\n",
        "history = model.fit(Train_Data,Train_Label,epochs=30,batch_size=64, validation_data=(Val_Data, Val_Label))\n",
        "\n"
      ],
      "metadata": {
        "colab": {
          "base_uri": "https://localhost:8080/"
        },
        "id": "T0c750HN1N45",
        "outputId": "2cd521ef-c5d0-428e-823d-d6dd5f5a29e1"
      },
      "execution_count": null,
      "outputs": [
        {
          "output_type": "stream",
          "name": "stderr",
          "text": [
            "/usr/local/lib/python3.7/dist-packages/tensorflow/python/util/dispatch.py:1082: UserWarning: \"`categorical_crossentropy` received `from_logits=True`, but the `output` argument was produced by a sigmoid or softmax activation and thus does not represent logits. Was this intended?\"\n",
            "  return dispatch_target(*args, **kwargs)\n"
          ]
        },
        {
          "output_type": "stream",
          "name": "stdout",
          "text": [
            "Train on 18466 samples, validate on 861 samples\n",
            "Epoch 1/30\n",
            "18466/18466 [==============================] - ETA: 0s - loss: 0.8138 - acc: 0.6220"
          ]
        },
        {
          "output_type": "stream",
          "name": "stderr",
          "text": [
            "/usr/local/lib/python3.7/dist-packages/keras/engine/training_v1.py:2057: UserWarning: `Model.state_updates` will be removed in a future version. This property should not be used in TensorFlow 2.0, as `updates` are applied automatically.\n",
            "  updates = self.state_updates\n"
          ]
        },
        {
          "output_type": "stream",
          "name": "stdout",
          "text": [
            "\b\b\b\b\b\b\b\b\b\b\b\b\b\b\b\b\b\b\b\b\b\b\b\b\b\b\b\b\b\b\b\b\b\b\b\b\b\b\b\b\b\b\b\b\b\b\b\b\b\b\b\b\b\b\b\b\b\b\b\b\b\b\b\b\b\b\b\b\b\b\b\b\b\b\b\b\b\b\b\b\b\b\b\r18466/18466 [==============================] - 27s 1ms/sample - loss: 0.8138 - acc: 0.6220 - val_loss: 0.6172 - val_acc: 0.7259\n",
            "Epoch 2/30\n",
            "18466/18466 [==============================] - 27s 1ms/sample - loss: 0.5669 - acc: 0.7530 - val_loss: 0.3959 - val_acc: 0.8351\n",
            "Epoch 3/30\n",
            "18466/18466 [==============================] - 26s 1ms/sample - loss: 0.4424 - acc: 0.8134 - val_loss: 0.2642 - val_acc: 0.8873\n",
            "Epoch 4/30\n",
            "18466/18466 [==============================] - 27s 1ms/sample - loss: 0.3646 - acc: 0.8492 - val_loss: 0.3747 - val_acc: 0.8200\n",
            "Epoch 5/30\n",
            "18466/18466 [==============================] - 27s 1ms/sample - loss: 0.2915 - acc: 0.8804 - val_loss: 0.2182 - val_acc: 0.9175\n",
            "Epoch 6/30\n",
            "18466/18466 [==============================] - 27s 1ms/sample - loss: 0.2393 - acc: 0.9038 - val_loss: 0.1925 - val_acc: 0.9338\n",
            "Epoch 7/30\n",
            "18466/18466 [==============================] - 26s 1ms/sample - loss: 0.2013 - acc: 0.9194 - val_loss: 0.2047 - val_acc: 0.9268\n",
            "Epoch 8/30\n",
            "18466/18466 [==============================] - 27s 1ms/sample - loss: 0.1621 - acc: 0.9367 - val_loss: 0.1654 - val_acc: 0.9361\n",
            "Epoch 9/30\n",
            "18466/18466 [==============================] - 27s 1ms/sample - loss: 0.1500 - acc: 0.9417 - val_loss: 0.2146 - val_acc: 0.9175\n",
            "Epoch 10/30\n",
            "18466/18466 [==============================] - 27s 1ms/sample - loss: 0.1189 - acc: 0.9540 - val_loss: 0.1959 - val_acc: 0.9419\n",
            "Epoch 11/30\n",
            "18466/18466 [==============================] - 26s 1ms/sample - loss: 0.1166 - acc: 0.9561 - val_loss: 0.1848 - val_acc: 0.9582\n",
            "Epoch 12/30\n",
            "18466/18466 [==============================] - 27s 1ms/sample - loss: 0.0912 - acc: 0.9663 - val_loss: 0.1876 - val_acc: 0.9431\n",
            "Epoch 13/30\n",
            "18466/18466 [==============================] - 27s 1ms/sample - loss: 0.0995 - acc: 0.9627 - val_loss: 0.1448 - val_acc: 0.9477\n",
            "Epoch 14/30\n",
            "18466/18466 [==============================] - 27s 1ms/sample - loss: 0.0775 - acc: 0.9723 - val_loss: 0.1583 - val_acc: 0.9501\n",
            "Epoch 15/30\n",
            "18466/18466 [==============================] - 26s 1ms/sample - loss: 0.0704 - acc: 0.9755 - val_loss: 0.1496 - val_acc: 0.9547\n",
            "Epoch 16/30\n",
            "18466/18466 [==============================] - 27s 1ms/sample - loss: 0.0682 - acc: 0.9764 - val_loss: 0.1826 - val_acc: 0.9489\n",
            "Epoch 17/30\n",
            "18466/18466 [==============================] - 27s 1ms/sample - loss: 0.0612 - acc: 0.9790 - val_loss: 0.2772 - val_acc: 0.9361\n",
            "Epoch 18/30\n",
            "18466/18466 [==============================] - 27s 1ms/sample - loss: 0.0679 - acc: 0.9779 - val_loss: 0.2150 - val_acc: 0.9454\n",
            "Epoch 19/30\n",
            "18466/18466 [==============================] - 26s 1ms/sample - loss: 0.0608 - acc: 0.9788 - val_loss: 0.1895 - val_acc: 0.9559\n",
            "Epoch 20/30\n",
            "18466/18466 [==============================] - 27s 1ms/sample - loss: 0.0595 - acc: 0.9797 - val_loss: 0.1889 - val_acc: 0.9466\n",
            "Epoch 21/30\n",
            "18466/18466 [==============================] - 27s 1ms/sample - loss: 0.0493 - acc: 0.9832 - val_loss: 0.2197 - val_acc: 0.9489\n",
            "Epoch 22/30\n",
            "18466/18466 [==============================] - 27s 1ms/sample - loss: 0.0503 - acc: 0.9832 - val_loss: 0.2493 - val_acc: 0.9431\n",
            "Epoch 23/30\n",
            "18466/18466 [==============================] - 26s 1ms/sample - loss: 0.0465 - acc: 0.9843 - val_loss: 0.1973 - val_acc: 0.9512\n",
            "Epoch 24/30\n",
            "18466/18466 [==============================] - 27s 1ms/sample - loss: 0.0605 - acc: 0.9795 - val_loss: 0.1524 - val_acc: 0.9559\n",
            "Epoch 25/30\n",
            "18466/18466 [==============================] - 27s 1ms/sample - loss: 0.0464 - acc: 0.9847 - val_loss: 0.2009 - val_acc: 0.9593\n",
            "Epoch 26/30\n",
            "18466/18466 [==============================] - 27s 1ms/sample - loss: 0.0431 - acc: 0.9854 - val_loss: 0.1961 - val_acc: 0.9454\n",
            "Epoch 27/30\n",
            "18466/18466 [==============================] - 26s 1ms/sample - loss: 0.0552 - acc: 0.9826 - val_loss: 0.1531 - val_acc: 0.9582\n",
            "Epoch 28/30\n",
            "18466/18466 [==============================] - 27s 1ms/sample - loss: 0.0395 - acc: 0.9872 - val_loss: 0.1698 - val_acc: 0.9593\n",
            "Epoch 29/30\n",
            "18466/18466 [==============================] - 27s 1ms/sample - loss: 0.0494 - acc: 0.9838 - val_loss: 0.1525 - val_acc: 0.9547\n",
            "Epoch 30/30\n",
            "18466/18466 [==============================] - 27s 1ms/sample - loss: 0.0402 - acc: 0.9869 - val_loss: 0.1825 - val_acc: 0.9512\n"
          ]
        }
      ]
    },
    {
      "cell_type": "code",
      "source": [
        "plt.plot(history.history['acc'], label='accuracy')\n",
        "plt.plot(history.history['val_acc'], label = 'val_accuracy')\n",
        "plt.xlabel('Epoch')\n",
        "plt.ylabel('Accuracy')\n",
        "plt.ylim([0.5, 1])\n",
        "plt.legend(loc='lower right')\n",
        "\n",
        "test_loss, test_acc = model.evaluate(Test_Data,Test_Label, verbose=2)\n",
        "print(test_acc)"
      ],
      "metadata": {
        "colab": {
          "base_uri": "https://localhost:8080/",
          "height": 301
        },
        "id": "j-HRS9ucArJN",
        "outputId": "d7fb4731-4301-4585-b9d3-d8d66bb9dab9"
      },
      "execution_count": null,
      "outputs": [
        {
          "output_type": "stream",
          "name": "stdout",
          "text": [
            "0.947026\n"
          ]
        },
        {
          "output_type": "display_data",
          "data": {
            "text/plain": [
              "<Figure size 432x288 with 1 Axes>"
            ],
            "image/png": "[encoded data removed]"
          },
          "metadata": {
            "needs_background": "light"
          }
        }
      ]
    },
    {
      "cell_type": "code",
      "source": [
        "loss_train = history.history['loss']\n",
        "loss_val = history.history['val_loss']\n",
        "epochs = range(1,35)\n",
        "plt.plot(loss_train, 'g', label='Training loss')\n",
        "plt.plot(loss_val, 'b', label='validation loss')\n",
        "plt.title('Training and Validation loss')\n",
        "plt.xlabel('Epochs')\n",
        "plt.ylabel('Loss')\n",
        "plt.legend()\n",
        "plt.show()"
      ],
      "metadata": {
        "id": "riLTmNLb6i29",
        "colab": {
          "base_uri": "https://localhost:8080/",
          "height": 295
        },
        "outputId": "60fca59c-0dc7-4fba-cf12-f2aebb24657b"
      },
      "execution_count": null,
      "outputs": [
        {
          "output_type": "display_data",
          "data": {
            "text/plain": [
              "<Figure size 432x288 with 1 Axes>"
            ],
            "image/png": "[encoded data removed]"
          },
          "metadata": {
            "needs_background": "light"
          }
        }
      ]
    },
    {
      "cell_type": "code",
      "source": [
        "model.save(\"ymulti95.tfl\")"
      ],
      "metadata": {
        "id": "AIWGN2pI0WqH"
      },
      "execution_count": null,
      "outputs": []
    },
    {
      "cell_type": "code",
      "source": [
        "y_pred=model.predict(Test_Data)\n"
      ],
      "metadata": {
        "colab": {
          "base_uri": "https://localhost:8080/"
        },
        "id": "1ZPsQ5bxbDHf",
        "outputId": "9a35532c-8a93-4c1c-bb3d-71c50a1372af"
      },
      "execution_count": null,
      "outputs": [
        {
          "output_type": "stream",
          "name": "stderr",
          "text": [
            "/usr/local/lib/python3.7/dist-packages/keras/engine/training_v1.py:2079: UserWarning: `Model.state_updates` will be removed in a future version. This property should not be used in TensorFlow 2.0, as `updates` are applied automatically.\n",
            "  updates=self.state_updates,\n"
          ]
        }
      ]
    },
    {
      "cell_type": "code",
      "source": [
        "l=os.listdir('/content/content/8020/Training/pituitary_tumor')\n",
        "print(len(l))"
      ],
      "metadata": {
        "id": "mmw-OO_HSLkA",
        "colab": {
          "base_uri": "https://localhost:8080/"
        },
        "outputId": "210e6f60-4b96-4081-bd3b-17f909c909ec"
      },
      "execution_count": null,
      "outputs": [
        {
          "output_type": "stream",
          "name": "stdout",
          "text": [
            "1172\n"
          ]
        }
      ]
    },
    {
      "cell_type": "code",
      "source": [
        "print(y_pred.shape)"
      ],
      "metadata": {
        "id": "-kEJ1WUmy89Q",
        "colab": {
          "base_uri": "https://localhost:8080/"
        },
        "outputId": "900b7d9d-938b-439b-8c95-13ea0c461b3c"
      },
      "execution_count": null,
      "outputs": [
        {
          "output_type": "stream",
          "name": "stdout",
          "text": [
            "(524, 3)\n"
          ]
        }
      ]
    }
  ]
}